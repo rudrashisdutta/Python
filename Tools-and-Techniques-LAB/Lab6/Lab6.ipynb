{
 "cells": [
  {
   "cell_type": "markdown",
   "id": "bfb609ae",
   "metadata": {},
   "source": [
    "# LAB6"
   ]
  },
  {
   "cell_type": "markdown",
   "id": "3f207045",
   "metadata": {},
   "source": [
    "## 1. python program to find the exponent of a number using recursion"
   ]
  },
  {
   "cell_type": "code",
   "execution_count": 1,
   "id": "de7d8886",
   "metadata": {},
   "outputs": [
    {
     "name": "stdout",
     "output_type": "stream",
     "text": [
      "64\n"
     ]
    }
   ],
   "source": [
    "def exponent(num, poww):\n",
    "    if poww == 0:\n",
    "        return 1\n",
    "    return num*exponent(num, poww-1)\n",
    "\n",
    "\n",
    "print(exponent(2, 6))"
   ]
  },
  {
   "cell_type": "markdown",
   "id": "2ea6751f",
   "metadata": {},
   "source": [
    "## 2. WAP  for sorting objects on the basis of the string values passed as arguments"
   ]
  },
  {
   "cell_type": "code",
   "execution_count": 2,
   "id": "4cb7ae79",
   "metadata": {},
   "outputs": [
    {
     "name": "stdout",
     "output_type": "stream",
     "text": [
      "I am from Cuttack\n"
     ]
    }
   ],
   "source": [
    "def printsorted(arr):\n",
    "    \n",
    "    print(*sorted(arr, key=len))\n",
    " \n",
    "\n",
    "arr = [\"Cuttack\", \"I\", \"from\", \"am\"]\n",
    "printsorted(arr)"
   ]
  },
  {
   "cell_type": "markdown",
   "id": "69e07afc",
   "metadata": {},
   "source": [
    "## 3.wap  to generate a python list of all the multiples of 3 and 7  between 70 to 300"
   ]
  },
  {
   "cell_type": "code",
   "execution_count": 3,
   "id": "7a392391",
   "metadata": {},
   "outputs": [
    {
     "name": "stdout",
     "output_type": "stream",
     "text": [
      "84\n",
      "105\n",
      "126\n",
      "147\n",
      "168\n",
      "189\n",
      "210\n",
      "231\n",
      "252\n",
      "273\n",
      "294\n",
      "2079\n"
     ]
    }
   ],
   "source": [
    "result = 0\n",
    "for i in range(70,300):\n",
    "    if (i % 3 == 0 and i % 7 == 0):\n",
    "        print(i)\n",
    "        result += i\n",
    "print(result)"
   ]
  },
  {
   "cell_type": "markdown",
   "id": "578fd478",
   "metadata": {},
   "source": [
    "## 4. Write a Python function that accepts a string and calculate the number of upper case letters and lower case letters"
   ]
  },
  {
   "cell_type": "code",
   "execution_count": 4,
   "id": "d12dc0e0",
   "metadata": {},
   "outputs": [
    {
     "name": "stdout",
     "output_type": "stream",
     "text": [
      "No. of Upper case characters :  3\n",
      "No. of Lower case Characters :  13\n"
     ]
    }
   ],
   "source": [
    "def string_test(s):\n",
    "    UPPER_CASE = 0\n",
    "    LOWER_CASE = 0\n",
    "    for c in s:\n",
    "        if c.isupper():\n",
    "            UPPER_CASE += 1\n",
    "        elif c.islower():\n",
    "            LOWER_CASE += 1\n",
    "        else:\n",
    "            pass\n",
    "    print(\"No. of Upper case characters : \", UPPER_CASE)\n",
    "    print(\"No. of Lower case Characters : \", LOWER_CASE)\n",
    "\n",
    "\n",
    "string_test('The quick Brown Fox')\n"
   ]
  },
  {
   "cell_type": "markdown",
   "id": "1d2fdd3f",
   "metadata": {},
   "source": [
    "## 5.Write a Python function that checks whether a passed string is palindrome or not. "
   ]
  },
  {
   "cell_type": "code",
   "execution_count": 5,
   "id": "48bdd2e4",
   "metadata": {},
   "outputs": [
    {
     "name": "stdout",
     "output_type": "stream",
     "text": [
      "Enter string:abacaba\n",
      "abacaba is a palindrome!\n"
     ]
    }
   ],
   "source": [
    "def is_palindrome(s):\n",
    "  if len(s) < 1:\n",
    "    return True\n",
    "  else:\n",
    "    if s[0] == s[-1]:\n",
    "      return is_palindrome(s[1:-1])\n",
    "    else:\n",
    "      return False\n",
    "a=str(input(\"Enter string:\"))\n",
    "if(is_palindrome(a)==True):\n",
    "  print(a, \"is a palindrome!\")\n",
    "else:\n",
    "  print(a, \"isn't a palindrome!\")"
   ]
  },
  {
   "cell_type": "markdown",
   "id": "5fa0b016",
   "metadata": {},
   "source": [
    "## 6.Write a Python function that prints out the first n rows of Pascal's triangle."
   ]
  },
  {
   "cell_type": "code",
   "execution_count": 6,
   "id": "5d79366a",
   "metadata": {},
   "outputs": [
    {
     "name": "stdout",
     "output_type": "stream",
     "text": [
      "Enter the limit: 10\n",
      "           1 \n",
      "          1 1 \n",
      "         1 2 1 \n",
      "        1 3 3 1 \n",
      "       1 4 6 4 1 \n",
      "      1 5 10 10 5 1 \n",
      "     1 6 15 20 15 6 1 \n",
      "    1 7 21 35 35 21 7 1 \n",
      "   1 8 28 56 70 56 28 8 1 \n",
      "  1 9 36 84 126 126 84 36 9 1 \n"
     ]
    }
   ],
   "source": [
    "from math import factorial\n",
    "\n",
    "n = int(input(\"Enter the limit: \"))\n",
    "\n",
    "\n",
    "def pascal_triangle(n):\n",
    "    for i in range(n):\n",
    "        for j in range(n-i+1):\n",
    "            print(end=\" \")\n",
    "        for j in range(i+1):\n",
    "            print(factorial(i)//(factorial(j)*factorial(i-j)), end=\" \")\n",
    "        print()\n",
    "\n",
    "\n",
    "pascal_triangle(n)\n"
   ]
  },
  {
   "cell_type": "markdown",
   "id": "ee08c753",
   "metadata": {},
   "source": [
    "## 7.Write a Python program to access a function inside a function."
   ]
  },
  {
   "cell_type": "code",
   "execution_count": 7,
   "id": "b583793e",
   "metadata": {},
   "outputs": [
    {
     "name": "stdout",
     "output_type": "stream",
     "text": [
      "10\n"
     ]
    }
   ],
   "source": [
    "def test(a):\n",
    "    def add(b):\n",
    "        return a+b\n",
    "    return add\n",
    "\n",
    "\n",
    "func = test(4)\n",
    "print(func(6))\n"
   ]
  },
  {
   "cell_type": "markdown",
   "id": "1ddd542a",
   "metadata": {},
   "source": [
    "## 8.Write a Python program to reverse a string."
   ]
  },
  {
   "cell_type": "code",
   "execution_count": 8,
   "id": "b22de3d5",
   "metadata": {},
   "outputs": [
    {
     "data": {
      "text/plain": [
       "'SIHSARDUR '"
      ]
     },
     "execution_count": 8,
     "metadata": {},
     "output_type": "execute_result"
    }
   ],
   "source": [
    "def reverse(s):\n",
    "    str = \" \"\n",
    "    for i in s:\n",
    "        str = i+str\n",
    "    return str\n",
    "\n",
    "\n",
    "reverse(\"RUDRASHIS\")\n"
   ]
  },
  {
   "cell_type": "markdown",
   "id": "dc60f54e",
   "metadata": {},
   "source": [
    "## 9.Using function Find the median from a given list,[32,76,56,99,102,54,11,73, 102,87,34,45,26,119,176]"
   ]
  },
  {
   "cell_type": "code",
   "execution_count": 9,
   "id": "0dda1e41",
   "metadata": {},
   "outputs": [
    {
     "name": "stdout",
     "output_type": "stream",
     "text": [
      "73\n"
     ]
    }
   ],
   "source": [
    "def cal_median(nums):\n",
    "    nums.sort()\n",
    "    n = len(nums)\n",
    "    m = n // 2\n",
    "    if n % 2 == 0:\n",
    "        return (nums[m - 1] + nums[m]) / 2\n",
    "    else:\n",
    "        return nums[m]\n",
    "\n",
    "\n",
    "print(cal_median([32, 76, 56, 99, 102, 54,\n",
    "      11, 73, 102, 87, 34, 45, 26, 119, 176]))\n"
   ]
  },
  {
   "cell_type": "markdown",
   "id": "f89dc590",
   "metadata": {},
   "source": [
    "## 10. Write a Python function to create and print a list where the values are square of numbers between 1 and 30 ."
   ]
  },
  {
   "cell_type": "code",
   "execution_count": 10,
   "id": "d749f450",
   "metadata": {},
   "outputs": [
    {
     "data": {
      "text/plain": [
       "[1,\n",
       " 4,\n",
       " 9,\n",
       " 16,\n",
       " 25,\n",
       " 36,\n",
       " 49,\n",
       " 64,\n",
       " 81,\n",
       " 100,\n",
       " 121,\n",
       " 144,\n",
       " 169,\n",
       " 196,\n",
       " 225,\n",
       " 256,\n",
       " 289,\n",
       " 324,\n",
       " 361,\n",
       " 400,\n",
       " 441,\n",
       " 484,\n",
       " 529,\n",
       " 576,\n",
       " 625,\n",
       " 676,\n",
       " 729,\n",
       " 784,\n",
       " 841,\n",
       " 900]"
      ]
     },
     "execution_count": 10,
     "metadata": {},
     "output_type": "execute_result"
    }
   ],
   "source": [
    "def sqr():\n",
    "    result = []\n",
    "    for i in range(1,31):\n",
    "        result.append((i)**2)\n",
    "    return result\n",
    "sqr()"
   ]
  },
  {
   "cell_type": "code",
   "execution_count": null,
   "id": "ab5e79f8",
   "metadata": {},
   "outputs": [],
   "source": []
  }
 ],
 "metadata": {
  "kernelspec": {
   "display_name": "Python 3 (ipykernel)",
   "language": "python",
   "name": "python3"
  },
  "language_info": {
   "codemirror_mode": {
    "name": "ipython",
    "version": 3
   },
   "file_extension": ".py",
   "mimetype": "text/x-python",
   "name": "python",
   "nbconvert_exporter": "python",
   "pygments_lexer": "ipython3",
   "version": "3.9.7"
  }
 },
 "nbformat": 4,
 "nbformat_minor": 5
}
