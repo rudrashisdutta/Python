{
 "cells": [
  {
   "cell_type": "markdown",
   "id": "701298d2",
   "metadata": {},
   "source": [
    "<h1 align=\"center\" style=\"font-size:3em;\">1906354 TnT SESSIONAL</h1>"
   ]
  },
  {
   "cell_type": "code",
   "execution_count": 1,
   "id": "e8bba1d9",
   "metadata": {},
   "outputs": [],
   "source": [
    "import numpy as np\n",
    "import pandas as pd"
   ]
  },
  {
   "cell_type": "markdown",
   "id": "5f028146",
   "metadata": {},
   "source": [
    "## Q1 A magic square is a matrix all of whose row sums, column sums, and the sums of the two diagonals are the same. (One diagonal of a matrix goes from the top left to the bottom right, and the other diagonal goes from top right to bottom left.) Show by direct computation that if the matrix A is given by\n",
    "A=np.array([[17, 24, 1, 8, 15],  \n",
    "[23, 5, 7, 14, 16],\n",
    "                      [\n",
    "[4, 6, 13, 20, 22],                    \n",
    "[10, 12, 19, 21, 3],\n",
    "                     \n",
    "[11, 18, 25, 2, 9]])\n",
    "\n",
    "The matrix A has 5-row sums (one for each row), 5 column sums (one for\n",
    "each column), and two diagonal sums. These 12 sums should all be exactly the\n",
    "same, and you could verify that they are the same by printing them and “seeing”\n",
    "that they are the same. It is easy to miss small differences among so many\n",
    "numbers, though. Instead, verify that A is a magic square by constructing the 5\n",
    "column sums and computing the maximum and minimum values of the column sums. Do\n",
    "the same for the 5-row sums, and compute the two diagonal sums. Check that\n",
    "these six values are the same. If the maximum and minimum values are the same,\n",
    "the flyswatter principle says that all values are the same.\n",
    "\n",
    "\n",
    "\n",
    "\n",
    "\n",
    "\n",
    "Hints: The function np.diag extracts the diagonal of a matrix, and the\n",
    "function np.fliplr extracts the other diagonal."
   ]
  },
  {
   "cell_type": "code",
   "execution_count": 2,
   "id": "775c2df8",
   "metadata": {},
   "outputs": [],
   "source": [
    "def isMagicSquare(arr):\n",
    "    n = len(arr)\n",
    "    sumd1 = 0\n",
    "    sumd2 = 0\n",
    "    for i in range(n):\n",
    "        sumd1 += arr[i][i]\n",
    "        sumd2 += arr[i][n-i-1]\n",
    "    if not(sumd1 == sumd2):\n",
    "        return False\n",
    "    for i in range(n):\n",
    "        sumr = 0\n",
    "        sumc = 0\n",
    "        for j in range(n):\n",
    "            sumr += arr[i][j]\n",
    "            sumc += arr[j][i]\n",
    "        if not(sumr == sumc == sumd1):\n",
    "            return False\n",
    "    return True"
   ]
  },
  {
   "cell_type": "code",
   "execution_count": 3,
   "id": "ba193915",
   "metadata": {},
   "outputs": [
    {
     "data": {
      "text/plain": [
       "array([[17, 24,  1,  8, 15],\n",
       "       [23,  5,  7, 14, 16],\n",
       "       [ 4,  6, 13, 20, 22],\n",
       "       [10, 12, 19, 21,  3],\n",
       "       [11, 18, 25,  2,  9]])"
      ]
     },
     "execution_count": 3,
     "metadata": {},
     "output_type": "execute_result"
    }
   ],
   "source": [
    "arr = np.array([[17, 24, 1, 8, 15],\n",
    "              [23, 5, 7, 14, 16],\n",
    "              [4, 6, 13, 20, 22],\n",
    "              [10, 12, 19, 21, 3],\n",
    "              [11, 18, 25, 2, 9]])\n",
    "\n",
    "arr"
   ]
  },
  {
   "cell_type": "code",
   "execution_count": 4,
   "id": "869f7fbb",
   "metadata": {},
   "outputs": [
    {
     "name": "stdout",
     "output_type": "stream",
     "text": [
      "It is a Magic Square.\n"
     ]
    }
   ],
   "source": [
    "if (isMagicSquare(arr)) :\n",
    "    print( \"It is a Magic Square.\")\n",
    "else :\n",
    "    print( \"It is not a magic Square.\")"
   ]
  },
  {
   "cell_type": "code",
   "execution_count": 5,
   "id": "ade3501f",
   "metadata": {},
   "outputs": [
    {
     "data": {
      "text/plain": [
       "array([65, 65, 65, 65, 65])"
      ]
     },
     "execution_count": 5,
     "metadata": {},
     "output_type": "execute_result"
    }
   ],
   "source": [
    "rowSum = np.sum(arr, axis=1)\n",
    "rowSum"
   ]
  },
  {
   "cell_type": "code",
   "execution_count": 6,
   "id": "3f6354c8",
   "metadata": {},
   "outputs": [
    {
     "data": {
      "text/plain": [
       "array([65, 65, 65, 65, 65])"
      ]
     },
     "execution_count": 6,
     "metadata": {},
     "output_type": "execute_result"
    }
   ],
   "source": [
    "colSum = np.sum(arr, axis=0)\n",
    "colSum"
   ]
  },
  {
   "cell_type": "code",
   "execution_count": 7,
   "id": "8f920e3f",
   "metadata": {},
   "outputs": [
    {
     "data": {
      "text/plain": [
       "65"
      ]
     },
     "execution_count": 7,
     "metadata": {},
     "output_type": "execute_result"
    }
   ],
   "source": [
    "diagonal1 = sum(np.diagonal(arr))\n",
    "diagonal1"
   ]
  },
  {
   "cell_type": "code",
   "execution_count": 8,
   "id": "f6bab194",
   "metadata": {},
   "outputs": [
    {
     "data": {
      "text/plain": [
       "65"
      ]
     },
     "execution_count": 8,
     "metadata": {},
     "output_type": "execute_result"
    }
   ],
   "source": [
    "diagonal2 = sum(np.fliplr(arr).diagonal())\n",
    "diagonal2"
   ]
  },
  {
   "cell_type": "code",
   "execution_count": 9,
   "id": "e13e8ef1",
   "metadata": {},
   "outputs": [
    {
     "name": "stdout",
     "output_type": "stream",
     "text": [
      "Equal.\n",
      "Equal.\n",
      "Equal.\n",
      "Equal.\n",
      "Equal.\n"
     ]
    }
   ],
   "source": [
    "for i in rowSum:\n",
    "    result = np.all(rowSum == rowSum[0])\n",
    "    if result:\n",
    "        print('Equal.')\n",
    "    else:\n",
    "        print('Equal.')"
   ]
  },
  {
   "cell_type": "code",
   "execution_count": 10,
   "id": "009faae3",
   "metadata": {},
   "outputs": [
    {
     "name": "stdout",
     "output_type": "stream",
     "text": [
      "Equal.\n",
      "Equal.\n",
      "Equal.\n",
      "Equal.\n",
      "Equal.\n"
     ]
    }
   ],
   "source": [
    "for i in rowSum:\n",
    "    result = np.all(colSum == colSum[0])\n",
    "    if result:\n",
    "        print('Equal.')\n",
    "    else:\n",
    "        print('Equal.')"
   ]
  },
  {
   "cell_type": "markdown",
   "id": "fb6d453c",
   "metadata": {},
   "source": [
    "## Q2 WAP TO PERFORM RIGHT JOIN AND INNER JOIN USING PANDAS."
   ]
  },
  {
   "cell_type": "code",
   "execution_count": 11,
   "id": "b8d05aba",
   "metadata": {},
   "outputs": [
    {
     "data": {
      "text/html": [
       "<div>\n",
       "<style scoped>\n",
       "    .dataframe tbody tr th:only-of-type {\n",
       "        vertical-align: middle;\n",
       "    }\n",
       "\n",
       "    .dataframe tbody tr th {\n",
       "        vertical-align: top;\n",
       "    }\n",
       "\n",
       "    .dataframe thead th {\n",
       "        text-align: right;\n",
       "    }\n",
       "</style>\n",
       "<table border=\"1\" class=\"dataframe\">\n",
       "  <thead>\n",
       "    <tr style=\"text-align: right;\">\n",
       "      <th></th>\n",
       "      <th>id</th>\n",
       "      <th>val1</th>\n",
       "    </tr>\n",
       "  </thead>\n",
       "  <tbody>\n",
       "    <tr>\n",
       "      <th>0</th>\n",
       "      <td>2</td>\n",
       "      <td>a</td>\n",
       "    </tr>\n",
       "    <tr>\n",
       "      <th>1</th>\n",
       "      <td>12</td>\n",
       "      <td>b</td>\n",
       "    </tr>\n",
       "    <tr>\n",
       "      <th>2</th>\n",
       "      <td>20</td>\n",
       "      <td>c</td>\n",
       "    </tr>\n",
       "    <tr>\n",
       "      <th>3</th>\n",
       "      <td>22</td>\n",
       "      <td>d</td>\n",
       "    </tr>\n",
       "  </tbody>\n",
       "</table>\n",
       "</div>"
      ],
      "text/plain": [
       "   id val1\n",
       "0   2    a\n",
       "1  12    b\n",
       "2  20    c\n",
       "3  22    d"
      ]
     },
     "execution_count": 11,
     "metadata": {},
     "output_type": "execute_result"
    }
   ],
   "source": [
    "data1 = pd.DataFrame({'id': [2, 12, 20, 22], 'val1': ['a', 'b', 'c', 'd']})\n",
    "data1"
   ]
  },
  {
   "cell_type": "code",
   "execution_count": 12,
   "id": "da3a2070",
   "metadata": {},
   "outputs": [
    {
     "data": {
      "text/html": [
       "<div>\n",
       "<style scoped>\n",
       "    .dataframe tbody tr th:only-of-type {\n",
       "        vertical-align: middle;\n",
       "    }\n",
       "\n",
       "    .dataframe tbody tr th {\n",
       "        vertical-align: top;\n",
       "    }\n",
       "\n",
       "    .dataframe thead th {\n",
       "        text-align: right;\n",
       "    }\n",
       "</style>\n",
       "<table border=\"1\" class=\"dataframe\">\n",
       "  <thead>\n",
       "    <tr style=\"text-align: right;\">\n",
       "      <th></th>\n",
       "      <th>id</th>\n",
       "      <th>val1</th>\n",
       "    </tr>\n",
       "  </thead>\n",
       "  <tbody>\n",
       "    <tr>\n",
       "      <th>0</th>\n",
       "      <td>4</td>\n",
       "      <td>p</td>\n",
       "    </tr>\n",
       "    <tr>\n",
       "      <th>1</th>\n",
       "      <td>5</td>\n",
       "      <td>q</td>\n",
       "    </tr>\n",
       "    <tr>\n",
       "      <th>2</th>\n",
       "      <td>8</td>\n",
       "      <td>r</td>\n",
       "    </tr>\n",
       "    <tr>\n",
       "      <th>3</th>\n",
       "      <td>12</td>\n",
       "      <td>s</td>\n",
       "    </tr>\n",
       "  </tbody>\n",
       "</table>\n",
       "</div>"
      ],
      "text/plain": [
       "   id val1\n",
       "0   4    p\n",
       "1   5    q\n",
       "2   8    r\n",
       "3  12    s"
      ]
     },
     "execution_count": 12,
     "metadata": {},
     "output_type": "execute_result"
    }
   ],
   "source": [
    "data2 = pd.DataFrame({'id': [4, 5, 8, 12], 'val1': ['p', 'q', 'r', 's']})\n",
    "data2"
   ]
  },
  {
   "cell_type": "code",
   "execution_count": 13,
   "id": "f8c9c22e",
   "metadata": {},
   "outputs": [
    {
     "data": {
      "text/html": [
       "<div>\n",
       "<style scoped>\n",
       "    .dataframe tbody tr th:only-of-type {\n",
       "        vertical-align: middle;\n",
       "    }\n",
       "\n",
       "    .dataframe tbody tr th {\n",
       "        vertical-align: top;\n",
       "    }\n",
       "\n",
       "    .dataframe thead th {\n",
       "        text-align: right;\n",
       "    }\n",
       "</style>\n",
       "<table border=\"1\" class=\"dataframe\">\n",
       "  <thead>\n",
       "    <tr style=\"text-align: right;\">\n",
       "      <th></th>\n",
       "      <th>id</th>\n",
       "      <th>val1_x</th>\n",
       "      <th>val1_y</th>\n",
       "    </tr>\n",
       "  </thead>\n",
       "  <tbody>\n",
       "    <tr>\n",
       "      <th>0</th>\n",
       "      <td>4</td>\n",
       "      <td>NaN</td>\n",
       "      <td>p</td>\n",
       "    </tr>\n",
       "    <tr>\n",
       "      <th>1</th>\n",
       "      <td>5</td>\n",
       "      <td>NaN</td>\n",
       "      <td>q</td>\n",
       "    </tr>\n",
       "    <tr>\n",
       "      <th>2</th>\n",
       "      <td>8</td>\n",
       "      <td>NaN</td>\n",
       "      <td>r</td>\n",
       "    </tr>\n",
       "    <tr>\n",
       "      <th>3</th>\n",
       "      <td>12</td>\n",
       "      <td>b</td>\n",
       "      <td>s</td>\n",
       "    </tr>\n",
       "  </tbody>\n",
       "</table>\n",
       "</div>"
      ],
      "text/plain": [
       "   id val1_x val1_y\n",
       "0   4    NaN      p\n",
       "1   5    NaN      q\n",
       "2   8    NaN      r\n",
       "3  12      b      s"
      ]
     },
     "execution_count": 13,
     "metadata": {},
     "output_type": "execute_result"
    }
   ],
   "source": [
    "right = pd.merge(data1, data2, on='id', how='right')\n",
    "right"
   ]
  },
  {
   "cell_type": "code",
   "execution_count": 14,
   "id": "442d631c",
   "metadata": {},
   "outputs": [
    {
     "data": {
      "text/html": [
       "<div>\n",
       "<style scoped>\n",
       "    .dataframe tbody tr th:only-of-type {\n",
       "        vertical-align: middle;\n",
       "    }\n",
       "\n",
       "    .dataframe tbody tr th {\n",
       "        vertical-align: top;\n",
       "    }\n",
       "\n",
       "    .dataframe thead th {\n",
       "        text-align: right;\n",
       "    }\n",
       "</style>\n",
       "<table border=\"1\" class=\"dataframe\">\n",
       "  <thead>\n",
       "    <tr style=\"text-align: right;\">\n",
       "      <th></th>\n",
       "      <th>id</th>\n",
       "      <th>val1_x</th>\n",
       "      <th>val1_y</th>\n",
       "    </tr>\n",
       "  </thead>\n",
       "  <tbody>\n",
       "    <tr>\n",
       "      <th>0</th>\n",
       "      <td>12</td>\n",
       "      <td>b</td>\n",
       "      <td>s</td>\n",
       "    </tr>\n",
       "  </tbody>\n",
       "</table>\n",
       "</div>"
      ],
      "text/plain": [
       "   id val1_x val1_y\n",
       "0  12      b      s"
      ]
     },
     "execution_count": 14,
     "metadata": {},
     "output_type": "execute_result"
    }
   ],
   "source": [
    "inner = pd.merge(data1, data2, on='id', how='inner')\n",
    "inner"
   ]
  },
  {
   "cell_type": "markdown",
   "id": "52fcea72",
   "metadata": {},
   "source": [
    "<h1 align=\"center\" style=\"font-size:3em;\">1906354 TnT SESSIONAL</h1>"
   ]
  }
 ],
 "metadata": {
  "kernelspec": {
   "display_name": "Python 3 (ipykernel)",
   "language": "python",
   "name": "python3"
  },
  "language_info": {
   "codemirror_mode": {
    "name": "ipython",
    "version": 3
   },
   "file_extension": ".py",
   "mimetype": "text/x-python",
   "name": "python",
   "nbconvert_exporter": "python",
   "pygments_lexer": "ipython3",
   "version": "3.9.7"
  }
 },
 "nbformat": 4,
 "nbformat_minor": 5
}
