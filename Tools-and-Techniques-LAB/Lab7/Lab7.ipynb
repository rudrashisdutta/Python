{
 "cells": [
  {
   "cell_type": "markdown",
   "id": "ac7fabd2",
   "metadata": {},
   "source": [
    "# Q1 Write a program in python using the concept of object. The class contain (name, roll, branch, cgpa).Create a object student. Input date as required and display them.\n"
   ]
  },
  {
   "cell_type": "code",
   "execution_count": 1,
   "id": "b868c4c9",
   "metadata": {},
   "outputs": [
    {
     "name": "stdout",
     "output_type": "stream",
     "text": [
      "Student name:  Rudrashis\n",
      "Student roll:  1906354\n",
      "Student branch:  IT\n",
      "Student cgpa:  8.5\n"
     ]
    }
   ],
   "source": [
    "class Q1:\n",
    "    def __init__(self, name, roll, branch, cgpa):\n",
    "        self.name = name\n",
    "        self.roll = roll\n",
    "        self.branch = branch\n",
    "        self.cgpa = cgpa\n",
    "\n",
    "    def details(self):\n",
    "        print(\"Student name: \", self.name)\n",
    "        print(\"Student roll: \", self.roll)\n",
    "        print(\"Student branch: \", self.branch)\n",
    "        print(\"Student cgpa: \", self.cgpa)\n",
    "\n",
    "student = Q1(\"Rudrashis\", 1906354, \"IT\", 8.5)\n",
    "student.details()"
   ]
  },
  {
   "cell_type": "markdown",
   "id": "9557a708",
   "metadata": {},
   "source": [
    "# Q2 Modify the question 1 and create 5 objects as s1,s2,s3,s4,s5. Input data as required and calculate average cgpa marks.\n"
   ]
  },
  {
   "cell_type": "code",
   "execution_count": 2,
   "id": "f842bacf",
   "metadata": {},
   "outputs": [
    {
     "data": {
      "text/plain": [
       "8.84"
      ]
     },
     "execution_count": 2,
     "metadata": {},
     "output_type": "execute_result"
    }
   ],
   "source": [
    "class Q2:\n",
    "    name,roll,branch,cgpa = '',0,'',0.0\n",
    "    \n",
    "    def __init__(self, name, roll, branch, cgpa):\n",
    "        self.name = name\n",
    "        self.roll = roll\n",
    "        self.branch = branch\n",
    "        self.cgpa = cgpa\n",
    "\n",
    "s1,s2,s3,s4,s5 = Q2(\"Rudrashis\", 19063, \"IT\", 8.5),Q2(\"test1\", 19064, \"IT\", 9.0),Q2(\"test2\", 19065, \"IT\", 9.1),Q2(\"test3\", 19066, \"IT\", 9.3),Q2(\"test4\", 19067, \"CSE\", 8.3)\n",
    "average_cgpa = (s1.cgpa + s2.cgpa + s3.cgpa + s4.cgpa + s5.cgpa)/5\n",
    "average_cgpa"
   ]
  },
  {
   "cell_type": "markdown",
   "id": "84b96e1b",
   "metadata": {},
   "source": [
    "# Q3 Write a Python function student_data () which will print the id of a student (student_id). If the user passes an argument student_name or student_class the function will print the student name and class."
   ]
  },
  {
   "cell_type": "code",
   "execution_count": 3,
   "id": "ed9ebef3",
   "metadata": {},
   "outputs": [
    {
     "name": "stdout",
     "output_type": "stream",
     "text": [
      "\n",
      "Student ID: 1906354\n",
      "Student Name: $ Rudrashis Dutta\n",
      "\n",
      "Student Name: $ Rudrashis Dutta\n",
      "Student Class: $ IT5\n"
     ]
    }
   ],
   "source": [
    "def student_data(student_id, **kwargs):\n",
    "    print(f'\\nStudent ID: {student_id}')\n",
    "    if 'student_name' in kwargs:\n",
    "        print(f\"Student Name: $ {kwargs['student_name']}\")\n",
    "\n",
    "    if 'student_name' and 'student_class' in kwargs:\n",
    "        print(f\"\\nStudent Name: $ {kwargs['student_name']}\")\n",
    "        print(f\"Student Class: $ {kwargs['student_class']}\")\n",
    "\n",
    "\n",
    "student_data(student_id='1906354', student_name='Rudrashis Dutta', student_class='IT5')\n"
   ]
  },
  {
   "cell_type": "markdown",
   "id": "ae4f00e4",
   "metadata": {},
   "source": [
    "# Q4 Write a python program  to define a class Rectangle having data member: length and breadth; to calculate the area and perimeter of the rectangle. Use member functions to read, calculate and display."
   ]
  },
  {
   "cell_type": "code",
   "execution_count": 4,
   "id": "8c2b623b",
   "metadata": {},
   "outputs": [
    {
     "name": "stdout",
     "output_type": "stream",
     "text": [
      "Length:  4\n",
      "Breadth:  11\n",
      "Area:  44\n",
      "Perimeter:  30\n"
     ]
    }
   ],
   "source": [
    "class Rectangle:\n",
    "    def __init__(self, length, breadth):\n",
    "        self.length = length\n",
    "        self.breadth = breadth\n",
    "    def area(self):\n",
    "        self.area = self.length * self.breadth\n",
    "    def perimeter(self):\n",
    "        self.perimeter = 2*(self.length + self.breadth)\n",
    "    def display(self):\n",
    "        print('Length: ', self.length)\n",
    "        print('Breadth: ', self.breadth)\n",
    "        print('Area: ', self.area)\n",
    "        print('Perimeter: ', self.perimeter)\n",
    "rectangle = Rectangle(4,11)\n",
    "rectangle.area()\n",
    "rectangle.perimeter()\n",
    "rectangle.display()"
   ]
  },
  {
   "cell_type": "markdown",
   "id": "3d6c7b26",
   "metadata": {},
   "source": [
    "# 5 Write a python program to input and display the details of n number of  students having roll, name and cgpa as data members. Also display the name  of the student having lowest cgpa.\n"
   ]
  },
  {
   "cell_type": "code",
   "execution_count": 5,
   "id": "d9c93485",
   "metadata": {},
   "outputs": [
    {
     "name": "stdout",
     "output_type": "stream",
     "text": [
      "Number of Students: 3\n",
      "Student 1 :\n",
      "Name: Rudrashis Dutta\n",
      "Roll: 1906354\n",
      "Class/Section: IT5\n",
      "CGPA out of 10: 8.21\n",
      "Student 2 :\n",
      "Name: Pooja Agarwal\n",
      "Roll: 1905330\n",
      "Class/Section: CS5\n",
      "CGPA out of 10: 9.2\n",
      "Student 3 :\n",
      "Name: Manjima Banerjee\n",
      "Roll: 1906336\n",
      "Class/Section: IT5\n",
      "CGPA out of 10: 9.0\n",
      "\n",
      "\n",
      "Displaying all students:\n",
      "\n",
      "Rudrashis Dutta\n",
      "1906354\n",
      "IT5\n",
      "8.21\n",
      "\n",
      "\n",
      "Pooja Agarwal\n",
      "1905330\n",
      "CS5\n",
      "9.2\n",
      "\n",
      "\n",
      "Manjima Banerjee\n",
      "1906336\n",
      "IT5\n",
      "9.0\n",
      "\n",
      "\n",
      "The lowest CGPA is\n",
      "8.21\n"
     ]
    }
   ],
   "source": [
    "class Q5:\n",
    "    def __init__(self, name, roll, classs, cgpa):\n",
    "        self.name = name\n",
    "        self.roll = roll\n",
    "        self.classs = classs\n",
    "        self.cgpa = cgpa\n",
    "    def display(self):\n",
    "        print(self.name, self.roll, self.classs, self.cgpa, sep='\\n', end='\\n\\n\\n')\n",
    "\n",
    "\n",
    "Students = []\n",
    "n = int(input(\"Number of Students: \"))\n",
    "for i in range(n):\n",
    "    print(\"Student\",i+1,\":\")\n",
    "    name = input(\"Name: \")\n",
    "    roll = int(input(\"Roll: \"))\n",
    "    classs = input(\"Class/Section: \")\n",
    "    cgpa = float(input(\"CGPA out of 10: \"))\n",
    "    Students.append(Q5(name, roll, classs, cgpa))\n",
    "    \n",
    "print(\"\\n\\nDisplaying all students:\", end='\\n\\n')\n",
    "for i in Students:\n",
    "    i.display()\n",
    "\n",
    "print(\"The lowest CGPA is\")\n",
    "print(min([i.cgpa for i in Students]))\n"
   ]
  },
  {
   "cell_type": "markdown",
   "id": "4109cf87",
   "metadata": {},
   "source": [
    "# 6 Write a python program to define a class Number with appropriate data  members and member functions to input n number of integers and swap the biggest and smallest elements. Use member functions read(), swap() and display()."
   ]
  },
  {
   "cell_type": "code",
   "execution_count": 6,
   "id": "929b686c",
   "metadata": {},
   "outputs": [
    {
     "name": "stdout",
     "output_type": "stream",
     "text": [
      "[24, 1, 12, 24, 11, 2]\n"
     ]
    }
   ],
   "source": [
    "class Number():\n",
    "    def __init__(self, numArr=[]):\n",
    "        self.arr = numArr\n",
    "\n",
    "    def read(self):\n",
    "        numArr = []\n",
    "        n = int(input(\"Enter number of elements : \"))\n",
    "        for i in range(0, n):\n",
    "            ele = int(input())\n",
    "            numArr.append(ele)\n",
    "        self.arr = numArr\n",
    "\n",
    "    def swap(self):\n",
    "        n = len(self.arr)\n",
    "        minVal = self.arr[0]\n",
    "        minPos = 0\n",
    "        maxVal = self.arr[0]\n",
    "        maxPos = 0\n",
    "\n",
    "        for i in range(1, n):\n",
    "            if(self.arr[i] < minVal):\n",
    "                minPos = i\n",
    "                minVal = self.arr[i]\n",
    "            if(self.arr[i] > maxVal):\n",
    "                maxPos = i\n",
    "                maxVal = self.arr[i]\n",
    "\n",
    "        temp = self.arr[minPos]\n",
    "        self.arr[minPos] = self.arr[maxPos]\n",
    "        self.arr[maxPos] = temp\n",
    "        return self.arr\n",
    "\n",
    "\n",
    "newNumber = Number([1, 24, 12, 24, 11, 2])\n",
    "print(newNumber.swap())\n"
   ]
  },
  {
   "cell_type": "markdown",
   "id": "e19da764",
   "metadata": {},
   "source": [
    "# Q7 Modify the question 1 and create array of 5 objects. Input data as required and display the name of the students having more than average cgpa marks.\n"
   ]
  },
  {
   "cell_type": "code",
   "execution_count": 7,
   "id": "7841184e",
   "metadata": {},
   "outputs": [
    {
     "name": "stdout",
     "output_type": "stream",
     "text": [
      "test1\n",
      "test2\n",
      "test3\n"
     ]
    }
   ],
   "source": [
    "class Q7:\n",
    "    def __init__(self, name, roll, branch, cgpa):\n",
    "        self.name = name\n",
    "        self.roll = roll\n",
    "        self.branch = branch\n",
    "        self.cgpa = cgpa\n",
    "\n",
    "\n",
    "arr = [Q7(\"Rudrashis\", 19063, \"IT\", 8.5), Q7(\"test1\", 19064, \"IT\", 9.0), Q7(\n",
    "    \"test2\", 19065, \"IT\", 9.1), Q7(\"test3\", 19066, \"IT\", 9.3), Q7(\"test4\", 19067, \"CSE\", 8.3)]\n",
    "avg = ((arr[0].cgpa + arr[1].cgpa + arr[2].cgpa + arr[3].cgpa + arr[4].cgpa)/5)\n",
    "for i in arr:\n",
    "    if i.cgpa > avg:\n",
    "        print(i.name)\n"
   ]
  },
  {
   "cell_type": "markdown",
   "id": "f7bbe84f",
   "metadata": {},
   "source": [
    "# Q8 Write a program in python using the concept of object. Create a class rectangle with attribute (length, breath). Calculate area, perimeter of the rectangle."
   ]
  },
  {
   "cell_type": "code",
   "execution_count": 8,
   "id": "7ed19075",
   "metadata": {},
   "outputs": [
    {
     "name": "stdout",
     "output_type": "stream",
     "text": [
      "Length:  4\n",
      "Breadth:  11\n",
      "Area:  44\n",
      "Perimeter:  30\n"
     ]
    }
   ],
   "source": [
    "class Rectangle:\n",
    "    def __init__(self, length, breadth):\n",
    "        self.length = length\n",
    "        self.breadth = breadth\n",
    "    def area(self):\n",
    "        self.area = self.length * self.breadth\n",
    "    def perimeter(self):\n",
    "        self.perimeter = 2*(self.length + self.breadth)\n",
    "    def display(self):\n",
    "        print('Length: ', self.length)\n",
    "        print('Breadth: ', self.breadth)\n",
    "        print('Area: ', self.area)\n",
    "        print('Perimeter: ', self.perimeter)\n",
    "rectangle = Rectangle(4,11)\n",
    "rectangle.area()\n",
    "rectangle.perimeter()\n",
    "rectangle.display()"
   ]
  },
  {
   "cell_type": "markdown",
   "id": "4fc85dcf",
   "metadata": {},
   "source": [
    "# Q9 Write a Python program to get all possible unique subsets from a set of distinct integers."
   ]
  },
  {
   "cell_type": "code",
   "execution_count": 9,
   "id": "3421ead6",
   "metadata": {},
   "outputs": [
    {
     "name": "stdout",
     "output_type": "stream",
     "text": [
      "[[], [6], [5], [5, 6], [4], [4, 6], [4, 5], [4, 5, 6]]\n"
     ]
    }
   ],
   "source": [
    "class Unique:\n",
    "    def sub_sets(self, subset):\n",
    "        return self.subsetsRecur([], sorted(subset))\n",
    "\n",
    "    def subsetsRecur(self, current, subset):\n",
    "        if subset:\n",
    "            return self.subsetsRecur(current, subset[1:]) + self.subsetsRecur(current + [subset[0]], subset[1:])\n",
    "        return [current]\n",
    "\n",
    "\n",
    "print(Unique().sub_sets([4, 5, 6]))\n"
   ]
  },
  {
   "cell_type": "markdown",
   "id": "a0de26b4",
   "metadata": {},
   "source": [
    "# Q10 Write a Python class to implement pow(x, n)."
   ]
  },
  {
   "cell_type": "code",
   "execution_count": 10,
   "id": "365bed00",
   "metadata": {},
   "outputs": [
    {
     "name": "stdout",
     "output_type": "stream",
     "text": [
      "0.125\n",
      "243\n",
      "1\n"
     ]
    }
   ],
   "source": [
    "class Power:\n",
    "    def pow(self, x, n):\n",
    "        if x == 0 or x == 1 or n == 1:\n",
    "            return x\n",
    "\n",
    "        if x == -1:\n",
    "            if n % 2 == 0:\n",
    "                return 1\n",
    "            else:\n",
    "                return -1\n",
    "        if n == 0:\n",
    "            return 1\n",
    "        if n < 0:\n",
    "            return 1/self.pow(x, -n)\n",
    "        val = self.pow(x, n//2)\n",
    "        if n % 2 == 0:\n",
    "            return val*val\n",
    "        return val*val*x\n",
    "\n",
    "\n",
    "print(Power().pow(2, -3))\n",
    "print(Power().pow(3, 5))\n",
    "print(Power().pow(100, 0))\n"
   ]
  },
  {
   "cell_type": "code",
   "execution_count": null,
   "id": "3830b11a",
   "metadata": {},
   "outputs": [],
   "source": []
  }
 ],
 "metadata": {
  "kernelspec": {
   "display_name": "Python 3 (ipykernel)",
   "language": "python",
   "name": "python3"
  },
  "language_info": {
   "codemirror_mode": {
    "name": "ipython",
    "version": 3
   },
   "file_extension": ".py",
   "mimetype": "text/x-python",
   "name": "python",
   "nbconvert_exporter": "python",
   "pygments_lexer": "ipython3",
   "version": "3.9.7"
  }
 },
 "nbformat": 4,
 "nbformat_minor": 5
}
