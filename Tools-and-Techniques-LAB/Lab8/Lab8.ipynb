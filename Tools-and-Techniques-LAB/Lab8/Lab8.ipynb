{
 "cells": [
  {
   "cell_type": "markdown",
   "id": "f5cf5db4",
   "metadata": {},
   "source": [
    "<h1 align='center'>1906354 TnT Lab 8</h1>"
   ]
  },
  {
   "cell_type": "markdown",
   "id": "2b135d82",
   "metadata": {},
   "source": [
    "# Inheritence"
   ]
  },
  {
   "cell_type": "markdown",
   "id": "be4e8feb",
   "metadata": {},
   "source": [
    "## Single Inheritence"
   ]
  },
  {
   "cell_type": "code",
   "execution_count": 1,
   "id": "3794a309",
   "metadata": {},
   "outputs": [
    {
     "name": "stdout",
     "output_type": "stream",
     "text": [
      "Rudrashis\n",
      "354\n"
     ]
    }
   ],
   "source": [
    "class Person(object):\n",
    "    def __init__(self,name,idno):\n",
    "        self.name=name\n",
    "        self.idno=idno\n",
    "    def display(self):\n",
    "        print(self.name)\n",
    "        print(self.idno)\n",
    "class Emp(Person):\n",
    "    def __init__(self,name,idno,salary,post):\n",
    "        self.salary=salary\n",
    "        self.post=post\n",
    "        Person.__init__(self,name,idno)\n",
    "        \n",
    "a=Emp('Rudrashis',354,54678,\"manager\")\n",
    "a.display()"
   ]
  },
  {
   "cell_type": "markdown",
   "id": "9a86bb64",
   "metadata": {},
   "source": [
    "## Multiple Inheritence"
   ]
  },
  {
   "cell_type": "code",
   "execution_count": 2,
   "id": "1aee9e3f",
   "metadata": {},
   "outputs": [
    {
     "name": "stdout",
     "output_type": "stream",
     "text": [
      "std1\n",
      "std2\n",
      "Derive class\n",
      "obj1 obj2\n"
     ]
    }
   ],
   "source": [
    "class b1(object):\n",
    "    def __init__(self):\n",
    "        self.str1 = \"obj1\"\n",
    "        print(\"std1\")\n",
    "\n",
    "\n",
    "class b2(object):\n",
    "    def __init__(self):\n",
    "        self.str2 = \"obj2\"\n",
    "        print(\"std2\")\n",
    "\n",
    "\n",
    "class derived(b1, b2):\n",
    "    def __init__(self):\n",
    "        b1.__init__(self)\n",
    "        b2.__init__(self)\n",
    "        print(\"Derive class\")\n",
    "\n",
    "    def printStrs(self):\n",
    "        print(self.str1, self.str2)\n",
    "\n",
    "\n",
    "ob = derived()\n",
    "ob.printStrs()"
   ]
  },
  {
   "cell_type": "markdown",
   "id": "5e65a556",
   "metadata": {},
   "source": [
    "## Hierarchical Inheritence"
   ]
  },
  {
   "cell_type": "code",
   "execution_count": 3,
   "id": "c9342164",
   "metadata": {},
   "outputs": [
    {
     "name": "stdout",
     "output_type": "stream",
     "text": [
      "This function is in parent class.\n",
      "This function is in child 1.\n",
      "This function is in parent class.\n",
      "This function is in child 2.\n"
     ]
    }
   ],
   "source": [
    "class Parent:\n",
    "    def func1(self):\n",
    "        print(\"This function is in parent class.\")\n",
    "\n",
    "\n",
    "class Child1(Parent):\n",
    "    def func2(self):\n",
    "        print(\"This function is in child 1.\")\n",
    "\n",
    "\n",
    "class Child2(Parent):\n",
    "    def func3(self):\n",
    "        print(\"This function is in child 2.\")\n",
    "\n",
    "\n",
    "object1 = Child1()\n",
    "object2 = Child2()\n",
    "object1.func1()\n",
    "object1.func2()\n",
    "object2.func1()\n",
    "object2.func3()"
   ]
  },
  {
   "cell_type": "markdown",
   "id": "2368cdcb",
   "metadata": {},
   "source": [
    "## Hybrid Inheritence"
   ]
  },
  {
   "cell_type": "code",
   "execution_count": 4,
   "id": "7f4f7f15",
   "metadata": {},
   "outputs": [
    {
     "name": "stdout",
     "output_type": "stream",
     "text": [
      "This function is in school.\n",
      "This function is in student 1. \n"
     ]
    }
   ],
   "source": [
    "class School:\n",
    "    def func1(self):\n",
    "        print(\"This function is in school.\")\n",
    "\n",
    "\n",
    "class Student1(School):\n",
    "    def func2(self):\n",
    "        print(\"This function is in student 1. \")\n",
    "\n",
    "\n",
    "class Student2(School):\n",
    "    def func3(self):\n",
    "        print(\"This function is in student 2.\")\n",
    "\n",
    "\n",
    "class Student3(Student1, School):\n",
    "    def func4(self):\n",
    "        print(\"This function is in student 3.\")\n",
    "\n",
    "\n",
    "object = Student3()\n",
    "object.func1()\n",
    "object.func2()"
   ]
  },
  {
   "cell_type": "markdown",
   "id": "1995af82",
   "metadata": {},
   "source": [
    "# 1. A plastic manufacturer sells plastic in different shapes like 2D sheet and 3D box. The cost of sheet is Rs 40/ per square ft. And the cost of box is Rs 60/ per cubic ft. Using appropriate inheritance calculate the cost of plastic as per the dimensions given by the user where 3D inherits from 2D."
   ]
  },
  {
   "cell_type": "code",
   "execution_count": 5,
   "id": "d953829b",
   "metadata": {},
   "outputs": [
    {
     "name": "stdout",
     "output_type": "stream",
     "text": [
      "1200\n",
      "8400\n"
     ]
    }
   ],
   "source": [
    "class Shape2D():\n",
    "    def __init__(self, length, width):\n",
    "        self.length = length\n",
    "        self.width = width\n",
    "\n",
    "    def get2DCost(self):\n",
    "        print(self.length*self.width*40)\n",
    "\n",
    "\n",
    "class Shape3D(Shape2D):\n",
    "    def __init__(self, length, width, height):\n",
    "        self.height = height\n",
    "        Shape2D.__init__(self, length, width)\n",
    "\n",
    "    def get3DCost(self):\n",
    "        print(self.length*self.width*self.height*40)\n",
    "\n",
    "\n",
    "a = Shape3D(5, 6, 7)\n",
    "a.get2DCost()\n",
    "a.get3DCost()"
   ]
  },
  {
   "cell_type": "markdown",
   "id": "5aaf2f88",
   "metadata": {},
   "source": [
    "# 2. Implement multi-level inheritance with three objects – plate (length, width), box (length, width,height), wood box (length, width, height, thick)."
   ]
  },
  {
   "cell_type": "code",
   "execution_count": 6,
   "id": "a94b340a",
   "metadata": {},
   "outputs": [
    {
     "name": "stdout",
     "output_type": "stream",
     "text": [
      "Plate\n",
      "Box : 5\n",
      "Wood_Box : 7\n"
     ]
    }
   ],
   "source": [
    "class Plate:\n",
    "    def plate(self, length, width):\n",
    "        self.length = length\n",
    "        self.width = width\n",
    "        print(\"Plate\")\n",
    "\n",
    "\n",
    "class Box(Plate):\n",
    "    def box(self, height):\n",
    "        self.height = height\n",
    "        print(height)\n",
    "\n",
    "\n",
    "class Wood_Box(Plate):\n",
    "    def woodBox(self, thick):\n",
    "        self.thick = thick\n",
    "        print(thick)\n",
    "\n",
    "\n",
    "class Mixed(Box, Wood_Box):\n",
    "    def mixed(self):\n",
    "        print(\"Box :\", self.height)\n",
    "        print(\"Wood_Box :\", self.thick)\n",
    "\n",
    "\n",
    "s1 = Mixed()\n",
    "s1.height = 5\n",
    "s1.thick = 7\n",
    "s1.plate(2, 3)\n",
    "s1.mixed()"
   ]
  },
  {
   "cell_type": "markdown",
   "id": "201493b1",
   "metadata": {},
   "source": [
    "# 3. Write a program in python to define a class Shape which has data member „area‟  and a member function showArea(). Derive two classes Circle and Rectangle  from Shape class. Add appropriate data members and member functions to  calculate and display the area of Circle and Rectangle."
   ]
  },
  {
   "cell_type": "code",
   "execution_count": 9,
   "id": "3c24f94b",
   "metadata": {},
   "outputs": [
    {
     "name": "stdout",
     "output_type": "stream",
     "text": [
      "Area : 28.269\n",
      "Area : 20\n"
     ]
    }
   ],
   "source": [
    "class Shape:\n",
    "    def __init__(self, area):\n",
    "        self.area = area\n",
    "\n",
    "    def showArea(self):\n",
    "        print(\"Area :\", self.area)\n",
    "\n",
    "\n",
    "class Circle(Shape):\n",
    "    def __init__(self, rad):\n",
    "        self.rad = rad\n",
    "        Shape.__init__(self, 3.141*rad*rad)\n",
    "\n",
    "\n",
    "class Rectangle(Shape):\n",
    "    def __init__(self, l, b):\n",
    "        self.l = l\n",
    "        self.b = b\n",
    "        Shape.__init__(self, l*b)\n",
    "\n",
    "\n",
    "circle = Circle(3)\n",
    "rect = Rectangle(4, 5)\n",
    "circle.showArea()\n",
    "rect.showArea()"
   ]
  }
 ],
 "metadata": {
  "kernelspec": {
   "display_name": "Python 3 (ipykernel)",
   "language": "python",
   "name": "python3"
  },
  "language_info": {
   "codemirror_mode": {
    "name": "ipython",
    "version": 3
   },
   "file_extension": ".py",
   "mimetype": "text/x-python",
   "name": "python",
   "nbconvert_exporter": "python",
   "pygments_lexer": "ipython3",
   "version": "3.9.7"
  }
 },
 "nbformat": 4,
 "nbformat_minor": 5
}
